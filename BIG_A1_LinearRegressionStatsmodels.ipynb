{
  "nbformat": 4,
  "nbformat_minor": 0,
  "metadata": {
    "colab": {
      "name": "BIG_A1_LinearRegressionStatsmodels.ipynb",
      "provenance": [],
      "include_colab_link": true
    },
    "kernelspec": {
      "name": "python3",
      "display_name": "Python 3"
    }
  },
  "cells": [
    {
      "cell_type": "markdown",
      "metadata": {
        "id": "view-in-github",
        "colab_type": "text"
      },
      "source": [
        "<a href=\"https://colab.research.google.com/github/BrunaKrasotaMatos/MineracaoDados/blob/main/BIG_A1_LinearRegressionStatsmodels.ipynb\" target=\"_parent\"><img src=\"https://colab.research.google.com/assets/colab-badge.svg\" alt=\"Open In Colab\"/></a>"
      ]
    },
    {
      "cell_type": "markdown",
      "metadata": {
        "id": "J3LMBfpeHTwb"
      },
      "source": [
        "<head>\n",
        "  <meta name=\"author\" content=\"Rogério de Oliveira\">\n",
        "  <meta institution=\"author\" content=\"Universidade Presbiteriana Mackenzie\">\n",
        "</head>\n",
        "\n",
        "<img src=\"http://meusite.mackenzie.br/rogerio/mackenzie_logo/UPM.2_horizontal_vermelho.jpg\" width=300, align=\"right\">\n",
        "<!-- <h1 align=left><font size = 6, style=\"color:rgb(200,0,0)\"> optional title </font></h1> -->\n"
      ]
    },
    {
      "cell_type": "markdown",
      "metadata": {
        "id": "zQX8WQPeHTwc"
      },
      "source": [
        "# **Tarefa de Aprofundamento 1 BRUNA MATOS** \n",
        "## CASO: Estimando o Preço de Imóveis em São Paulo\n",
        "---\n",
        "<br>\n",
        "<br>\n",
        "\n",
        "\n",
        "\n"
      ]
    },
    {
      "cell_type": "markdown",
      "metadata": {
        "id": "Py6w383Wz2xs"
      },
      "source": [
        "A partir deste notebook crie um modelo de regressão múltipla com a biblioteca `statsmodels` para predição de preço de imóveis com base no histórico de preços e características de vários imóveis de São Paulo. \n",
        "\n",
        "Em seguida, com base nos seus resultados, responda o **questionário do Moodle**. "
      ]
    },
    {
      "cell_type": "markdown",
      "metadata": {
        "id": "nGZH-j05q8WZ"
      },
      "source": [
        "# Basic imports"
      ]
    },
    {
      "cell_type": "code",
      "metadata": {
        "id": "T6FFPMh10lvO"
      },
      "source": [
        "import numpy as np\n",
        "import pandas as pd\n",
        "import matplotlib.pyplot as plt\n",
        "%matplotlib inline\n",
        "import seaborn as sns"
      ],
      "execution_count": 1,
      "outputs": []
    },
    {
      "cell_type": "markdown",
      "metadata": {
        "id": "xir7T5-tsJJa"
      },
      "source": [
        "# Exploração dos Dados"
      ]
    },
    {
      "cell_type": "markdown",
      "metadata": {
        "id": "R4T821bBttsU"
      },
      "source": [
        "Entenda os dados disponíveis e em seguida faça as transformações necessárias nos dados. Quantidades dos dados, se existem valores nulos e valores máximos e mínimos dos atributos são algumas explorações comuns. "
      ]
    },
    {
      "cell_type": "markdown",
      "metadata": {
        "id": "bM4fPIXvstYK"
      },
      "source": [
        "(Moodle) **Q1**. Quantos bairros existem no histórico e qual o bairro mais presente nos dados?\n",
        "\n"
      ]
    },
    {
      "cell_type": "markdown",
      "source": [
        "Q1. Quantos bairros existem no histórico ?\n",
        "> 5\n",
        "\n",
        "Qual o bairro mais presente nos dados?\n",
        "\n",
        "> Vila-Mariana\n",
        "\n"
      ],
      "metadata": {
        "id": "I5w27a0HPZGn"
      }
    },
    {
      "cell_type": "code",
      "metadata": {
        "colab": {
          "base_uri": "https://localhost:8080/",
          "height": 206
        },
        "id": "1rI9MHBaO9qR",
        "outputId": "d7541bb9-474d-44f1-cc6a-cfad3e23a521"
      },
      "source": [
        "df = pd.read_excel('http://meusite.mackenzie.br/rogerio/data_load/regressao_preco_imoveis.xlsx')\n",
        "df.head()"
      ],
      "execution_count": 2,
      "outputs": [
        {
          "output_type": "execute_result",
          "data": {
            "text/plain": [
              "                bairro  areaM2  suites  dormitorios  banheiros  vagas    preco\n",
              "0  vila-nova-conceicao      32       1            1          1      1   490000\n",
              "1  vila-nova-conceicao     157       2            2          2      2  3180000\n",
              "2  vila-nova-conceicao     205       2            3          3      3  1900000\n",
              "3  vila-nova-conceicao     193       3            3          3      3  3565000\n",
              "4  vila-nova-conceicao     116       1            3          2      2  1605000"
            ],
            "text/html": [
              "\n",
              "  <div id=\"df-600a74cc-69c7-4174-bf2a-cc4ef4b30160\">\n",
              "    <div class=\"colab-df-container\">\n",
              "      <div>\n",
              "<style scoped>\n",
              "    .dataframe tbody tr th:only-of-type {\n",
              "        vertical-align: middle;\n",
              "    }\n",
              "\n",
              "    .dataframe tbody tr th {\n",
              "        vertical-align: top;\n",
              "    }\n",
              "\n",
              "    .dataframe thead th {\n",
              "        text-align: right;\n",
              "    }\n",
              "</style>\n",
              "<table border=\"1\" class=\"dataframe\">\n",
              "  <thead>\n",
              "    <tr style=\"text-align: right;\">\n",
              "      <th></th>\n",
              "      <th>bairro</th>\n",
              "      <th>areaM2</th>\n",
              "      <th>suites</th>\n",
              "      <th>dormitorios</th>\n",
              "      <th>banheiros</th>\n",
              "      <th>vagas</th>\n",
              "      <th>preco</th>\n",
              "    </tr>\n",
              "  </thead>\n",
              "  <tbody>\n",
              "    <tr>\n",
              "      <th>0</th>\n",
              "      <td>vila-nova-conceicao</td>\n",
              "      <td>32</td>\n",
              "      <td>1</td>\n",
              "      <td>1</td>\n",
              "      <td>1</td>\n",
              "      <td>1</td>\n",
              "      <td>490000</td>\n",
              "    </tr>\n",
              "    <tr>\n",
              "      <th>1</th>\n",
              "      <td>vila-nova-conceicao</td>\n",
              "      <td>157</td>\n",
              "      <td>2</td>\n",
              "      <td>2</td>\n",
              "      <td>2</td>\n",
              "      <td>2</td>\n",
              "      <td>3180000</td>\n",
              "    </tr>\n",
              "    <tr>\n",
              "      <th>2</th>\n",
              "      <td>vila-nova-conceicao</td>\n",
              "      <td>205</td>\n",
              "      <td>2</td>\n",
              "      <td>3</td>\n",
              "      <td>3</td>\n",
              "      <td>3</td>\n",
              "      <td>1900000</td>\n",
              "    </tr>\n",
              "    <tr>\n",
              "      <th>3</th>\n",
              "      <td>vila-nova-conceicao</td>\n",
              "      <td>193</td>\n",
              "      <td>3</td>\n",
              "      <td>3</td>\n",
              "      <td>3</td>\n",
              "      <td>3</td>\n",
              "      <td>3565000</td>\n",
              "    </tr>\n",
              "    <tr>\n",
              "      <th>4</th>\n",
              "      <td>vila-nova-conceicao</td>\n",
              "      <td>116</td>\n",
              "      <td>1</td>\n",
              "      <td>3</td>\n",
              "      <td>2</td>\n",
              "      <td>2</td>\n",
              "      <td>1605000</td>\n",
              "    </tr>\n",
              "  </tbody>\n",
              "</table>\n",
              "</div>\n",
              "      <button class=\"colab-df-convert\" onclick=\"convertToInteractive('df-600a74cc-69c7-4174-bf2a-cc4ef4b30160')\"\n",
              "              title=\"Convert this dataframe to an interactive table.\"\n",
              "              style=\"display:none;\">\n",
              "        \n",
              "  <svg xmlns=\"http://www.w3.org/2000/svg\" height=\"24px\"viewBox=\"0 0 24 24\"\n",
              "       width=\"24px\">\n",
              "    <path d=\"M0 0h24v24H0V0z\" fill=\"none\"/>\n",
              "    <path d=\"M18.56 5.44l.94 2.06.94-2.06 2.06-.94-2.06-.94-.94-2.06-.94 2.06-2.06.94zm-11 1L8.5 8.5l.94-2.06 2.06-.94-2.06-.94L8.5 2.5l-.94 2.06-2.06.94zm10 10l.94 2.06.94-2.06 2.06-.94-2.06-.94-.94-2.06-.94 2.06-2.06.94z\"/><path d=\"M17.41 7.96l-1.37-1.37c-.4-.4-.92-.59-1.43-.59-.52 0-1.04.2-1.43.59L10.3 9.45l-7.72 7.72c-.78.78-.78 2.05 0 2.83L4 21.41c.39.39.9.59 1.41.59.51 0 1.02-.2 1.41-.59l7.78-7.78 2.81-2.81c.8-.78.8-2.07 0-2.86zM5.41 20L4 18.59l7.72-7.72 1.47 1.35L5.41 20z\"/>\n",
              "  </svg>\n",
              "      </button>\n",
              "      \n",
              "  <style>\n",
              "    .colab-df-container {\n",
              "      display:flex;\n",
              "      flex-wrap:wrap;\n",
              "      gap: 12px;\n",
              "    }\n",
              "\n",
              "    .colab-df-convert {\n",
              "      background-color: #E8F0FE;\n",
              "      border: none;\n",
              "      border-radius: 50%;\n",
              "      cursor: pointer;\n",
              "      display: none;\n",
              "      fill: #1967D2;\n",
              "      height: 32px;\n",
              "      padding: 0 0 0 0;\n",
              "      width: 32px;\n",
              "    }\n",
              "\n",
              "    .colab-df-convert:hover {\n",
              "      background-color: #E2EBFA;\n",
              "      box-shadow: 0px 1px 2px rgba(60, 64, 67, 0.3), 0px 1px 3px 1px rgba(60, 64, 67, 0.15);\n",
              "      fill: #174EA6;\n",
              "    }\n",
              "\n",
              "    [theme=dark] .colab-df-convert {\n",
              "      background-color: #3B4455;\n",
              "      fill: #D2E3FC;\n",
              "    }\n",
              "\n",
              "    [theme=dark] .colab-df-convert:hover {\n",
              "      background-color: #434B5C;\n",
              "      box-shadow: 0px 1px 3px 1px rgba(0, 0, 0, 0.15);\n",
              "      filter: drop-shadow(0px 1px 2px rgba(0, 0, 0, 0.3));\n",
              "      fill: #FFFFFF;\n",
              "    }\n",
              "  </style>\n",
              "\n",
              "      <script>\n",
              "        const buttonEl =\n",
              "          document.querySelector('#df-600a74cc-69c7-4174-bf2a-cc4ef4b30160 button.colab-df-convert');\n",
              "        buttonEl.style.display =\n",
              "          google.colab.kernel.accessAllowed ? 'block' : 'none';\n",
              "\n",
              "        async function convertToInteractive(key) {\n",
              "          const element = document.querySelector('#df-600a74cc-69c7-4174-bf2a-cc4ef4b30160');\n",
              "          const dataTable =\n",
              "            await google.colab.kernel.invokeFunction('convertToInteractive',\n",
              "                                                     [key], {});\n",
              "          if (!dataTable) return;\n",
              "\n",
              "          const docLinkHtml = 'Like what you see? Visit the ' +\n",
              "            '<a target=\"_blank\" href=https://colab.research.google.com/notebooks/data_table.ipynb>data table notebook</a>'\n",
              "            + ' to learn more about interactive tables.';\n",
              "          element.innerHTML = '';\n",
              "          dataTable['output_type'] = 'display_data';\n",
              "          await google.colab.output.renderOutput(dataTable, element);\n",
              "          const docLink = document.createElement('div');\n",
              "          docLink.innerHTML = docLinkHtml;\n",
              "          element.appendChild(docLink);\n",
              "        }\n",
              "      </script>\n",
              "    </div>\n",
              "  </div>\n",
              "  "
            ]
          },
          "metadata": {},
          "execution_count": 2
        }
      ]
    },
    {
      "cell_type": "code",
      "metadata": {
        "id": "zCGFg5vqwwJT",
        "outputId": "9e95b02c-9751-4dce-ad8d-24bce874a384",
        "colab": {
          "base_uri": "https://localhost:8080/",
          "height": 394
        }
      },
      "source": [
        "# 1. Transformando dados\n",
        "# a. Substituindo . nos atributos, pois nao eh suportados pela API \n",
        "df.columns = [ x.replace('.','') for x in df.columns ]\n",
        "# b. Uso o comando describe para ter uma noção geral dos meus dados\n",
        "df.describe(include='all')\n"
      ],
      "execution_count": 7,
      "outputs": [
        {
          "output_type": "execute_result",
          "data": {
            "text/plain": [
              "              bairro       areaM2       suites  dormitorios    banheiros  \\\n",
              "count           3741  3741.000000  3741.000000  3741.000000  3741.000000   \n",
              "unique             5          NaN          NaN          NaN          NaN   \n",
              "top     vila-mariana          NaN          NaN          NaN          NaN   \n",
              "freq            1714          NaN          NaN          NaN          NaN   \n",
              "mean             NaN   140.343758     1.700882     2.946271     3.095429   \n",
              "std              NaN    60.051791     0.994945     0.759292     1.372859   \n",
              "min              NaN    20.000000     1.000000     1.000000     1.000000   \n",
              "25%              NaN    94.000000     1.000000     3.000000     2.000000   \n",
              "50%              NaN   130.000000     1.000000     3.000000     3.000000   \n",
              "75%              NaN   180.000000     2.000000     3.000000     4.000000   \n",
              "max              NaN   299.000000     6.000000     6.000000     9.000000   \n",
              "\n",
              "              vagas         preco  \n",
              "count   3741.000000  3.741000e+03  \n",
              "unique          NaN           NaN  \n",
              "top             NaN           NaN  \n",
              "freq            NaN           NaN  \n",
              "mean       2.225341  1.553746e+06  \n",
              "std        1.000940  1.073607e+06  \n",
              "min        1.000000  2.800000e+05  \n",
              "25%        1.000000  8.500000e+05  \n",
              "50%        2.000000  1.200000e+06  \n",
              "75%        3.000000  1.880000e+06  \n",
              "max        5.000000  8.000000e+06  "
            ],
            "text/html": [
              "\n",
              "  <div id=\"df-f2fa80ec-3101-4508-8c22-9c8b7e53ddf3\">\n",
              "    <div class=\"colab-df-container\">\n",
              "      <div>\n",
              "<style scoped>\n",
              "    .dataframe tbody tr th:only-of-type {\n",
              "        vertical-align: middle;\n",
              "    }\n",
              "\n",
              "    .dataframe tbody tr th {\n",
              "        vertical-align: top;\n",
              "    }\n",
              "\n",
              "    .dataframe thead th {\n",
              "        text-align: right;\n",
              "    }\n",
              "</style>\n",
              "<table border=\"1\" class=\"dataframe\">\n",
              "  <thead>\n",
              "    <tr style=\"text-align: right;\">\n",
              "      <th></th>\n",
              "      <th>bairro</th>\n",
              "      <th>areaM2</th>\n",
              "      <th>suites</th>\n",
              "      <th>dormitorios</th>\n",
              "      <th>banheiros</th>\n",
              "      <th>vagas</th>\n",
              "      <th>preco</th>\n",
              "    </tr>\n",
              "  </thead>\n",
              "  <tbody>\n",
              "    <tr>\n",
              "      <th>count</th>\n",
              "      <td>3741</td>\n",
              "      <td>3741.000000</td>\n",
              "      <td>3741.000000</td>\n",
              "      <td>3741.000000</td>\n",
              "      <td>3741.000000</td>\n",
              "      <td>3741.000000</td>\n",
              "      <td>3.741000e+03</td>\n",
              "    </tr>\n",
              "    <tr>\n",
              "      <th>unique</th>\n",
              "      <td>5</td>\n",
              "      <td>NaN</td>\n",
              "      <td>NaN</td>\n",
              "      <td>NaN</td>\n",
              "      <td>NaN</td>\n",
              "      <td>NaN</td>\n",
              "      <td>NaN</td>\n",
              "    </tr>\n",
              "    <tr>\n",
              "      <th>top</th>\n",
              "      <td>vila-mariana</td>\n",
              "      <td>NaN</td>\n",
              "      <td>NaN</td>\n",
              "      <td>NaN</td>\n",
              "      <td>NaN</td>\n",
              "      <td>NaN</td>\n",
              "      <td>NaN</td>\n",
              "    </tr>\n",
              "    <tr>\n",
              "      <th>freq</th>\n",
              "      <td>1714</td>\n",
              "      <td>NaN</td>\n",
              "      <td>NaN</td>\n",
              "      <td>NaN</td>\n",
              "      <td>NaN</td>\n",
              "      <td>NaN</td>\n",
              "      <td>NaN</td>\n",
              "    </tr>\n",
              "    <tr>\n",
              "      <th>mean</th>\n",
              "      <td>NaN</td>\n",
              "      <td>140.343758</td>\n",
              "      <td>1.700882</td>\n",
              "      <td>2.946271</td>\n",
              "      <td>3.095429</td>\n",
              "      <td>2.225341</td>\n",
              "      <td>1.553746e+06</td>\n",
              "    </tr>\n",
              "    <tr>\n",
              "      <th>std</th>\n",
              "      <td>NaN</td>\n",
              "      <td>60.051791</td>\n",
              "      <td>0.994945</td>\n",
              "      <td>0.759292</td>\n",
              "      <td>1.372859</td>\n",
              "      <td>1.000940</td>\n",
              "      <td>1.073607e+06</td>\n",
              "    </tr>\n",
              "    <tr>\n",
              "      <th>min</th>\n",
              "      <td>NaN</td>\n",
              "      <td>20.000000</td>\n",
              "      <td>1.000000</td>\n",
              "      <td>1.000000</td>\n",
              "      <td>1.000000</td>\n",
              "      <td>1.000000</td>\n",
              "      <td>2.800000e+05</td>\n",
              "    </tr>\n",
              "    <tr>\n",
              "      <th>25%</th>\n",
              "      <td>NaN</td>\n",
              "      <td>94.000000</td>\n",
              "      <td>1.000000</td>\n",
              "      <td>3.000000</td>\n",
              "      <td>2.000000</td>\n",
              "      <td>1.000000</td>\n",
              "      <td>8.500000e+05</td>\n",
              "    </tr>\n",
              "    <tr>\n",
              "      <th>50%</th>\n",
              "      <td>NaN</td>\n",
              "      <td>130.000000</td>\n",
              "      <td>1.000000</td>\n",
              "      <td>3.000000</td>\n",
              "      <td>3.000000</td>\n",
              "      <td>2.000000</td>\n",
              "      <td>1.200000e+06</td>\n",
              "    </tr>\n",
              "    <tr>\n",
              "      <th>75%</th>\n",
              "      <td>NaN</td>\n",
              "      <td>180.000000</td>\n",
              "      <td>2.000000</td>\n",
              "      <td>3.000000</td>\n",
              "      <td>4.000000</td>\n",
              "      <td>3.000000</td>\n",
              "      <td>1.880000e+06</td>\n",
              "    </tr>\n",
              "    <tr>\n",
              "      <th>max</th>\n",
              "      <td>NaN</td>\n",
              "      <td>299.000000</td>\n",
              "      <td>6.000000</td>\n",
              "      <td>6.000000</td>\n",
              "      <td>9.000000</td>\n",
              "      <td>5.000000</td>\n",
              "      <td>8.000000e+06</td>\n",
              "    </tr>\n",
              "  </tbody>\n",
              "</table>\n",
              "</div>\n",
              "      <button class=\"colab-df-convert\" onclick=\"convertToInteractive('df-f2fa80ec-3101-4508-8c22-9c8b7e53ddf3')\"\n",
              "              title=\"Convert this dataframe to an interactive table.\"\n",
              "              style=\"display:none;\">\n",
              "        \n",
              "  <svg xmlns=\"http://www.w3.org/2000/svg\" height=\"24px\"viewBox=\"0 0 24 24\"\n",
              "       width=\"24px\">\n",
              "    <path d=\"M0 0h24v24H0V0z\" fill=\"none\"/>\n",
              "    <path d=\"M18.56 5.44l.94 2.06.94-2.06 2.06-.94-2.06-.94-.94-2.06-.94 2.06-2.06.94zm-11 1L8.5 8.5l.94-2.06 2.06-.94-2.06-.94L8.5 2.5l-.94 2.06-2.06.94zm10 10l.94 2.06.94-2.06 2.06-.94-2.06-.94-.94-2.06-.94 2.06-2.06.94z\"/><path d=\"M17.41 7.96l-1.37-1.37c-.4-.4-.92-.59-1.43-.59-.52 0-1.04.2-1.43.59L10.3 9.45l-7.72 7.72c-.78.78-.78 2.05 0 2.83L4 21.41c.39.39.9.59 1.41.59.51 0 1.02-.2 1.41-.59l7.78-7.78 2.81-2.81c.8-.78.8-2.07 0-2.86zM5.41 20L4 18.59l7.72-7.72 1.47 1.35L5.41 20z\"/>\n",
              "  </svg>\n",
              "      </button>\n",
              "      \n",
              "  <style>\n",
              "    .colab-df-container {\n",
              "      display:flex;\n",
              "      flex-wrap:wrap;\n",
              "      gap: 12px;\n",
              "    }\n",
              "\n",
              "    .colab-df-convert {\n",
              "      background-color: #E8F0FE;\n",
              "      border: none;\n",
              "      border-radius: 50%;\n",
              "      cursor: pointer;\n",
              "      display: none;\n",
              "      fill: #1967D2;\n",
              "      height: 32px;\n",
              "      padding: 0 0 0 0;\n",
              "      width: 32px;\n",
              "    }\n",
              "\n",
              "    .colab-df-convert:hover {\n",
              "      background-color: #E2EBFA;\n",
              "      box-shadow: 0px 1px 2px rgba(60, 64, 67, 0.3), 0px 1px 3px 1px rgba(60, 64, 67, 0.15);\n",
              "      fill: #174EA6;\n",
              "    }\n",
              "\n",
              "    [theme=dark] .colab-df-convert {\n",
              "      background-color: #3B4455;\n",
              "      fill: #D2E3FC;\n",
              "    }\n",
              "\n",
              "    [theme=dark] .colab-df-convert:hover {\n",
              "      background-color: #434B5C;\n",
              "      box-shadow: 0px 1px 3px 1px rgba(0, 0, 0, 0.15);\n",
              "      filter: drop-shadow(0px 1px 2px rgba(0, 0, 0, 0.3));\n",
              "      fill: #FFFFFF;\n",
              "    }\n",
              "  </style>\n",
              "\n",
              "      <script>\n",
              "        const buttonEl =\n",
              "          document.querySelector('#df-f2fa80ec-3101-4508-8c22-9c8b7e53ddf3 button.colab-df-convert');\n",
              "        buttonEl.style.display =\n",
              "          google.colab.kernel.accessAllowed ? 'block' : 'none';\n",
              "\n",
              "        async function convertToInteractive(key) {\n",
              "          const element = document.querySelector('#df-f2fa80ec-3101-4508-8c22-9c8b7e53ddf3');\n",
              "          const dataTable =\n",
              "            await google.colab.kernel.invokeFunction('convertToInteractive',\n",
              "                                                     [key], {});\n",
              "          if (!dataTable) return;\n",
              "\n",
              "          const docLinkHtml = 'Like what you see? Visit the ' +\n",
              "            '<a target=\"_blank\" href=https://colab.research.google.com/notebooks/data_table.ipynb>data table notebook</a>'\n",
              "            + ' to learn more about interactive tables.';\n",
              "          element.innerHTML = '';\n",
              "          dataTable['output_type'] = 'display_data';\n",
              "          await google.colab.output.renderOutput(dataTable, element);\n",
              "          const docLink = document.createElement('div');\n",
              "          docLink.innerHTML = docLinkHtml;\n",
              "          element.appendChild(docLink);\n",
              "        }\n",
              "      </script>\n",
              "    </div>\n",
              "  </div>\n",
              "  "
            ]
          },
          "metadata": {},
          "execution_count": 7
        }
      ]
    },
    {
      "cell_type": "code",
      "source": [
        "# c. Para a coluna com dado categorico\n",
        "df.bairro.value_counts()"
      ],
      "metadata": {
        "id": "Ey6ge8ZnUMrC",
        "outputId": "00b2d306-d6ac-4a2d-bac6-191277f5fb9d",
        "colab": {
          "base_uri": "https://localhost:8080/"
        }
      },
      "execution_count": 8,
      "outputs": [
        {
          "output_type": "execute_result",
          "data": {
            "text/plain": [
              "vila-mariana           1714\n",
              "paraiso                 802\n",
              "vila-nova-conceicao     789\n",
              "vila-sonia              307\n",
              "morumbi                 129\n",
              "Name: bairro, dtype: int64"
            ]
          },
          "metadata": {},
          "execution_count": 8
        }
      ]
    },
    {
      "cell_type": "markdown",
      "source": [
        "**Os dados parecem estar coerentes. Na coluna 'bairro' que temos dados categóricos, conseguimos obter resultado para as funcões unique, top e freq e NaN para as demais funções. Para o restante das colunas que temos dados numéricos, pudemos obter valores coerentes de max e min, assim como para as demais funções.**"
      ],
      "metadata": {
        "id": "ZyTPLjD7Q2rs"
      }
    },
    {
      "cell_type": "markdown",
      "metadata": {
        "id": "zOOVEBpDtz4E"
      },
      "source": [
        "# Preparação dos Dados\n",
        "\n",
        "Use [statsmodels.formula.api](https://www.statsmodels.org/dev/generated/statsmodels.formula.api.ols.html)\n",
        "\n",
        "```\n",
        "from statsmodels.formula.api import ols   \n",
        "```\n",
        "\n",
        "Se você empregar esta forma do `statsmodels` ele fará de modo implítico o hot encode dos dados e não há necessidade de nenhuma transformação dos dados (não faremos a normalização aqui. Embora sempre recomendável na maior parte dos casos, aqui o resultado de predição será o mesmo com o sem a normalização).\n",
        "\n",
        "Atenção, se você empregar \n",
        "```\n",
        "from statsmodels.api import OLS \n",
        "```\n",
        "os resultados serão os mesmos, mas alguma preparação nos dados será necessária e a construção do modelo será um pouco diferente."
      ]
    },
    {
      "cell_type": "code",
      "metadata": {
        "id": "Sait1Ah_tgmQ"
      },
      "source": [
        "from statsmodels.formula.api import ols   \n",
        "\n",
        "# nada a fazer se estiver empregando a api acima"
      ],
      "execution_count": 4,
      "outputs": []
    },
    {
      "cell_type": "markdown",
      "metadata": {
        "id": "hEKtLebAmZrZ"
      },
      "source": [
        "# Estimando o modelo com o `statsmodels`\n",
        "\n",
        "Estime o modelo."
      ]
    },
    {
      "cell_type": "markdown",
      "metadata": {
        "id": "4KB5hJx6uCHS"
      },
      "source": [
        "(Moodle) **Q2**. Qual o coeficiente de determinação ajustado obtido?\n",
        "\n",
        "Dica: empregue `result.rsquared_adj` no lugar de `result.summary()` para obter resultados com maior precisão.\n",
        "\n",
        "(Moodle) **Q3**. Qual coeficiente estimado é menos significativo?"
      ]
    },
    {
      "cell_type": "markdown",
      "source": [
        "Q2. 0.7948154407290992\n",
        "\n",
        "Q3. bairro[T.paraiso]"
      ],
      "metadata": {
        "id": "Ei0-ZoCkcDFJ"
      }
    },
    {
      "cell_type": "code",
      "metadata": {
        "id": "AaDqRKl7vlVp",
        "outputId": "841622d7-bbe8-41d0-c291-6b3bca7d832d",
        "colab": {
          "base_uri": "https://localhost:8080/"
        }
      },
      "source": [
        "# seu código\n",
        "\n",
        "import statsmodels.formula.api as sm \n",
        "# Preciso fazer o hot encode da coluna que possui dados categoricos para conseguir usar no meu modelo\n",
        "# hot encode já eh feito internamente\n",
        "# modelo 1 obtido considerando todas as variáveis menos a variável categórica\n",
        "model_1 = sm.ols(formula= \"preco ~ bairro + areaM2 +\tsuites\t+ dormitorios\t+ banheiros\t+ vagas\", data=df)\n",
        "# comando fit para treinar a minha função obtida\n",
        "result_1 = model_1.fit()\n",
        "# print para analisar os valores obtidos\n",
        "print(result_1.summary())\n",
        "\n",
        "print(\"Rsquared_adj\")\n",
        "print(result_1.rsquared_adj)"
      ],
      "execution_count": 9,
      "outputs": [
        {
          "output_type": "stream",
          "name": "stdout",
          "text": [
            "                            OLS Regression Results                            \n",
            "==============================================================================\n",
            "Dep. Variable:                  preco   R-squared:                       0.795\n",
            "Model:                            OLS   Adj. R-squared:                  0.795\n",
            "Method:                 Least Squares   F-statistic:                     1611.\n",
            "Date:                Thu, 01 Dec 2022   Prob (F-statistic):               0.00\n",
            "Time:                        02:06:52   Log-Likelihood:                -54290.\n",
            "No. Observations:                3741   AIC:                         1.086e+05\n",
            "Df Residuals:                    3731   BIC:                         1.087e+05\n",
            "Df Model:                           9                                         \n",
            "Covariance Type:            nonrobust                                         \n",
            "=================================================================================================\n",
            "                                    coef    std err          t      P>|t|      [0.025      0.975]\n",
            "-------------------------------------------------------------------------------------------------\n",
            "Intercept                      -3.16e+05   5.35e+04     -5.911      0.000   -4.21e+05   -2.11e+05\n",
            "bairro[T.paraiso]              8.331e+04   4.68e+04      1.781      0.075   -8410.743    1.75e+05\n",
            "bairro[T.vila-mariana]         -1.18e+05   4.44e+04     -2.657      0.008   -2.05e+05   -3.09e+04\n",
            "bairro[T.vila-nova-conceicao]  7.698e+05   4.66e+04     16.502      0.000    6.78e+05    8.61e+05\n",
            "bairro[T.vila-sonia]          -5.245e+05   5.13e+04    -10.234      0.000   -6.25e+05   -4.24e+05\n",
            "areaM2                         7580.2937    241.143     31.435      0.000    7107.508    8053.079\n",
            "suites                         1.532e+05   1.33e+04     11.524      0.000    1.27e+05    1.79e+05\n",
            "dormitorios                   -9.971e+04    1.5e+04     -6.655      0.000   -1.29e+05   -7.03e+04\n",
            "banheiros                      4755.9925   8373.499      0.568      0.570   -1.17e+04    2.12e+04\n",
            "vagas                          3.331e+05   1.36e+04     24.503      0.000    3.06e+05     3.6e+05\n",
            "==============================================================================\n",
            "Omnibus:                     1315.549   Durbin-Watson:                   1.972\n",
            "Prob(Omnibus):                  0.000   Jarque-Bera (JB):            12370.154\n",
            "Skew:                           1.401   Prob(JB):                         0.00\n",
            "Kurtosis:                      11.457   Cond. No.                     1.89e+03\n",
            "==============================================================================\n",
            "\n",
            "Notes:\n",
            "[1] Standard Errors assume that the covariance matrix of the errors is correctly specified.\n",
            "[2] The condition number is large, 1.89e+03. This might indicate that there are\n",
            "strong multicollinearity or other numerical problems.\n",
            "Rsquared_adj\n",
            "0.7948154407290992\n"
          ]
        }
      ]
    },
    {
      "cell_type": "markdown",
      "metadata": {
        "id": "dgS10RfFwvwo"
      },
      "source": [
        "# Re-estimando o modelo com o `statsmodels`\n",
        "\n",
        "Estime novamente o modelo excluindo o atributo menos significativo (um único atributo). "
      ]
    },
    {
      "cell_type": "markdown",
      "metadata": {
        "id": "D-O_AgTfwvwo"
      },
      "source": [
        "(Moodle) **Q4**. Qual o novo coeficiente de determinação ajustado obtido?\n"
      ]
    },
    {
      "cell_type": "code",
      "metadata": {
        "id": "E_HLvYgGugge",
        "outputId": "3ec7654c-ae13-4801-8d29-aca6020845cc",
        "colab": {
          "base_uri": "https://localhost:8080/"
        }
      },
      "source": [
        "# seu código\n",
        "\n",
        "import statsmodels.formula.api as sm \n",
        "\n",
        "# vou remover a variável bairo por ser a menos significativa\n",
        "model_2 = sm.ols(formula= \"preco ~ bairro + areaM2 +\tsuites\t+ dormitorios\t+ vagas\", data=df)\n",
        "# comando fit para treinar a minha função obtida\n",
        "result_2 = model_2.fit()\n",
        "\n",
        "# para analisar valores obtidos\n",
        "print(result_1.summary())\n",
        "\n",
        "print(\"Rsquared_adj\")\n",
        "print(result_2.rsquared_adj)"
      ],
      "execution_count": 11,
      "outputs": [
        {
          "output_type": "stream",
          "name": "stdout",
          "text": [
            "                            OLS Regression Results                            \n",
            "==============================================================================\n",
            "Dep. Variable:                  preco   R-squared:                       0.795\n",
            "Model:                            OLS   Adj. R-squared:                  0.795\n",
            "Method:                 Least Squares   F-statistic:                     1611.\n",
            "Date:                Thu, 01 Dec 2022   Prob (F-statistic):               0.00\n",
            "Time:                        02:16:20   Log-Likelihood:                -54290.\n",
            "No. Observations:                3741   AIC:                         1.086e+05\n",
            "Df Residuals:                    3731   BIC:                         1.087e+05\n",
            "Df Model:                           9                                         \n",
            "Covariance Type:            nonrobust                                         \n",
            "=================================================================================================\n",
            "                                    coef    std err          t      P>|t|      [0.025      0.975]\n",
            "-------------------------------------------------------------------------------------------------\n",
            "Intercept                      -3.16e+05   5.35e+04     -5.911      0.000   -4.21e+05   -2.11e+05\n",
            "bairro[T.paraiso]              8.331e+04   4.68e+04      1.781      0.075   -8410.743    1.75e+05\n",
            "bairro[T.vila-mariana]         -1.18e+05   4.44e+04     -2.657      0.008   -2.05e+05   -3.09e+04\n",
            "bairro[T.vila-nova-conceicao]  7.698e+05   4.66e+04     16.502      0.000    6.78e+05    8.61e+05\n",
            "bairro[T.vila-sonia]          -5.245e+05   5.13e+04    -10.234      0.000   -6.25e+05   -4.24e+05\n",
            "areaM2                         7580.2937    241.143     31.435      0.000    7107.508    8053.079\n",
            "suites                         1.532e+05   1.33e+04     11.524      0.000    1.27e+05    1.79e+05\n",
            "dormitorios                   -9.971e+04    1.5e+04     -6.655      0.000   -1.29e+05   -7.03e+04\n",
            "banheiros                      4755.9925   8373.499      0.568      0.570   -1.17e+04    2.12e+04\n",
            "vagas                          3.331e+05   1.36e+04     24.503      0.000    3.06e+05     3.6e+05\n",
            "==============================================================================\n",
            "Omnibus:                     1315.549   Durbin-Watson:                   1.972\n",
            "Prob(Omnibus):                  0.000   Jarque-Bera (JB):            12370.154\n",
            "Skew:                           1.401   Prob(JB):                         0.00\n",
            "Kurtosis:                      11.457   Cond. No.                     1.89e+03\n",
            "==============================================================================\n",
            "\n",
            "Notes:\n",
            "[1] Standard Errors assume that the covariance matrix of the errors is correctly specified.\n",
            "[2] The condition number is large, 1.89e+03. This might indicate that there are\n",
            "strong multicollinearity or other numerical problems.\n",
            "Rsquared_adj\n",
            "0.7948526838722687\n"
          ]
        }
      ]
    },
    {
      "cell_type": "code",
      "source": [
        "print(\"Rsquared_adj 1\")\n",
        "print(result_1.rsquared_adj)\n",
        "\n",
        "print(\"Rsquared_adj 2\")\n",
        "print(result_2.rsquared_adj)"
      ],
      "metadata": {
        "id": "6eH-GfM9eZmA",
        "outputId": "c36470ec-20ec-4b4d-d9fc-5489b10cc9f6",
        "colab": {
          "base_uri": "https://localhost:8080/"
        }
      },
      "execution_count": 12,
      "outputs": [
        {
          "output_type": "stream",
          "name": "stdout",
          "text": [
            "Rsquared_adj 1\n",
            "0.7948154407290992\n",
            "Rsquared_adj 2\n",
            "0.7948526838722687\n"
          ]
        }
      ]
    },
    {
      "cell_type": "markdown",
      "metadata": {
        "id": "vR_Q4ifCttKD"
      },
      "source": [
        "# Predição\n",
        "\n",
        "Faça a predição do preço, com o melhor dos modelos obtidos acima, de um imóvel na Vila Mariana, com 134 m2, 1 suite, 4 dorm, 3 banheiros e 3 vagas.\n",
        "\n"
      ]
    },
    {
      "cell_type": "markdown",
      "metadata": {
        "id": "tMjCg31VzFWX"
      },
      "source": [
        "(Moodle) **Q5**. Qual o preço estimado, para o melhor dos modelos obtidos, de um imóvel na Vila Mariana, com 134 m2, 1 suite, 4 dorm, 3 banheiros e 3 vagas?\n",
        "\n"
      ]
    },
    {
      "cell_type": "code",
      "metadata": {
        "id": "4GZZsfngq007",
        "outputId": "a47534d6-0ad1-4055-880e-db35bd5072f8",
        "colab": {
          "base_uri": "https://localhost:8080/"
        }
      },
      "source": [
        "# seu código\n",
        "# colunas a serem usadas\n",
        "# bairro = \"vila-mariana\"\n",
        "# areaM2 = 134\n",
        "#\tsuites = 1\n",
        "# dormitorios = 4\n",
        "# vagas = 3\n",
        "\n",
        "# Cria df com os dados que queremos\n",
        "x = pd.DataFrame({'bairro': [ \"vila-mariana\" ],\n",
        "                  'areaM2': [ 134 ],\n",
        "                  'suites': [ 1 ],\n",
        "                  'dormitorios': [ 4 ],\n",
        "                  'vagas': [ 3 ]})\n",
        "# visualizo para ver se deu certo\n",
        "x.head()\n",
        "# faço a predição\n",
        "result_2.predict(x)"
      ],
      "execution_count": 14,
      "outputs": [
        {
          "output_type": "execute_result",
          "data": {
            "text/plain": [
              "0    1.350585e+06\n",
              "dtype: float64"
            ]
          },
          "metadata": {},
          "execution_count": 14
        }
      ]
    }
  ]
}