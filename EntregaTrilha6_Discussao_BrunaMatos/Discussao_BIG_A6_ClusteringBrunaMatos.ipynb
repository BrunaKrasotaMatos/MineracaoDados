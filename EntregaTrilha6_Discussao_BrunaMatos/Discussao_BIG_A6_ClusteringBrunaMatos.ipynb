{
  "nbformat": 4,
  "nbformat_minor": 0,
  "metadata": {
    "colab": {
      "provenance": []
    },
    "kernelspec": {
      "name": "python3",
      "display_name": "Python 3"
    }
  },
  "cells": [
    {
      "cell_type": "markdown",
      "metadata": {
        "id": "J3LMBfpeHTwb"
      },
      "source": [
        "<head>\n",
        "  <meta name=\"author\" content=\"Rogério de Oliveira\">\n",
        "  <meta institution=\"author\" content=\"Universidade Presbiteriana Mackenzie\">\n",
        "</head>\n",
        "\n",
        "<img src=\"http://meusite.mackenzie.br/rogerio/mackenzie_logo/UPM.2_horizontal_vermelho.jpg\" width=300, align=\"right\">\n",
        "<!-- <h1 align=left><font size = 6, style=\"color:rgb(200,0,0)\"> optional title </font></h1> -->\n"
      ]
    },
    {
      "cell_type": "markdown",
      "metadata": {
        "id": "zQX8WQPeHTwc"
      },
      "source": [
        "# **Tarefa de Aprofundamento 6** \n",
        "## CASO: Clustering, Segmentando Países pela Força de Trabalho\n",
        "---\n",
        "\n",
        "<br>\n",
        "<br>\n",
        "<br>\n",
        "\n",
        "Com base na atividade *Tarefa de Aprofundamento 5*, **Pesquise e Discuta apenas uma** das perguntas a seguir.\n"
      ]
    },
    {
      "cell_type": "markdown",
      "metadata": {
        "id": "nGZH-j05q8WZ"
      },
      "source": [
        "### 1. Pesquise outros modelos de clusterização e exemplifique uma situação em que um desses modelos pesquisados apresenta resultados melhores que os modelos de clusterização hierárquica e kmédias. \n",
        "\n",
        "<small>\n",
        "Talvez você queira aplicar esse outro modelo aos dados da Tarefa 5 e compartilhar com os colegas. Mas isso é opcional."
      ]
    },
    {
      "cell_type": "code",
      "source": [],
      "metadata": {
        "id": "zvXhVlFPp64s"
      },
      "execution_count": null,
      "outputs": []
    },
    {
      "cell_type": "markdown",
      "metadata": {
        "id": "Oar--2gn9EJ0"
      },
      "source": [
        "*Sua resposta aqui em 1 (um) parágrafo.*"
      ]
    },
    {
      "cell_type": "markdown",
      "metadata": {
        "id": "p32U1tt_9XBd"
      },
      "source": [
        "### 2. A clusterização é bastante empregada para a agrupamento de documentos como emails, páginas de notícias etc. Pesquise qual a métrica de similaridade (distância) normalmente empregada na clusterização de documentos e explique por quê. "
      ]
    },
    {
      "cell_type": "markdown",
      "metadata": {
        "id": "-tdb6x3s9XBd"
      },
      "source": [
        "A escolha de uma medida de similaridade ou distância entre documentos pode ser baste subjetiva. A medida de distância mais utilizada é Euclidiana. Normalmente por ser levado em consideração o modelo de represnetação dos documentos, a natureza das variáveis que podem ser discretas, contínuas ou binárias. Também considerando a escala de medida, se é nominal, ordinal, intervalo entre outras.\n",
        "É importante também levar em consideração o uso de uma medida padrão caso não se tenha muita familiaridade com os métodos hierárquicos."
      ]
    },
    {
      "cell_type": "markdown",
      "metadata": {
        "id": "xR8J3aMB-TjC"
      },
      "source": [
        "## Referências"
      ]
    },
    {
      "cell_type": "code",
      "source": [
        "https://www.maxwell.vrac.puc-rio.br/14103/14103_6.PDF\n",
        "\n",
        "https://www2.ufjf.br/lates//files/2016/12/Conte%c3%bado-5-%e2%80%93-N_An%c3%a1lise-de-cluster-AA.pdf\n",
        "\n",
        "https://www.cin.ufpe.br/~if796/aulas/clustering-2010.pdf\n",
        "\n",
        "http://www.leg.ufpr.br/~walmes/ensino/mintex/slides/07-similar.pdf\n",
        "\n",
        "Todos acessados em 4 de dezembro de 2022 as 21:31"
      ],
      "metadata": {
        "id": "79JunNEesOL2"
      },
      "execution_count": null,
      "outputs": []
    },
    {
      "cell_type": "markdown",
      "metadata": {
        "id": "vxyPgZ60-TjC"
      },
      "source": [
        "*Adicione aqui as referências empregadas.*"
      ]
    }
  ]
}